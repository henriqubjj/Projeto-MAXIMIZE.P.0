{
 "cells": [
  {
   "cell_type": "code",
   "execution_count": 2,
   "metadata": {},
   "outputs": [],
   "source": [
    "from functions.branchandboundsolver import BranchAndBoundSolver\n",
    "from functions.model_builder import ModelBuilder"
   ]
  },
  {
   "cell_type": "code",
   "execution_count": 6,
   "metadata": {},
   "outputs": [
    {
     "name": "stdout",
     "output_type": "stream",
     "text": [
      "Variables:\n",
      "x_0 = 0.0\n",
      "x_1 = 0.0\n",
      "x_2 = 1.0\n",
      "x_3 = 0.0\n",
      "x_4 = 0.0\n",
      "x_5 = 0.0\n",
      "x_6 = 0.0\n",
      "x_7 = 0.0\n",
      "x_8 = 0.0\n",
      "x_9 = 0.0\n",
      "Objective function:\n",
      "Z = 10.0\n"
     ]
    }
   ],
   "source": [
    "model_builder1 = ModelBuilder('./files/teste4.txt')\n",
    "model_1 = model_builder1.create_model()\n",
    "\n",
    "solver_1 = BranchAndBoundSolver(model_1)\n",
    "solver_1.solve()"
   ]
  },
  {
   "cell_type": "code",
   "execution_count": 3,
   "metadata": {},
   "outputs": [
    {
     "name": "stdout",
     "output_type": "stream",
     "text": [
      "Variables:\n",
      "x_0 = 0.0\n",
      "x_1 = 0.0\n",
      "x_2 = 0.0\n",
      "x_3 = 0.0\n",
      "x_4 = 0.0\n",
      "x_5 = 1.0\n",
      "x_6 = 1.0\n",
      "x_7 = 0.0\n",
      "x_8 = 1.0\n",
      "x_9 = 0.0\n",
      "Objective function:\n",
      "Z = 24.0\n"
     ]
    }
   ],
   "source": [
    "model_builder2 = ModelBuilder('./files/teste2.txt')\n",
    "model_2 = model_builder2.create_model()\n",
    "\n",
    "solver_2 = BranchAndBoundSolver(model_2)\n",
    "solver_2.solve()"
   ]
  },
  {
   "cell_type": "code",
   "execution_count": 4,
   "metadata": {},
   "outputs": [
    {
     "name": "stdout",
     "output_type": "stream",
     "text": [
      "Variables:\n",
      "x_0 = 0.0\n",
      "x_1 = 0.0\n",
      "x_2 = 1.0\n",
      "x_3 = 0.0\n",
      "x_4 = 0.0\n",
      "x_5 = 0.0\n",
      "x_6 = 1.0\n",
      "x_7 = 0.0\n",
      "x_8 = 0.0\n",
      "x_9 = 0.0\n",
      "Objective function:\n",
      "Z = 19.0\n"
     ]
    }
   ],
   "source": [
    "model_builder3 = ModelBuilder('./files/teste3.txt')\n",
    "model_3 = model_builder3.create_model()\n",
    "\n",
    "solver_3 = BranchAndBoundSolver(model_3)\n",
    "solver_3.solve()"
   ]
  },
  {
   "cell_type": "code",
   "execution_count": 5,
   "metadata": {},
   "outputs": [
    {
     "name": "stdout",
     "output_type": "stream",
     "text": [
      "Variables:\n",
      "x_0 = 0.0\n",
      "x_1 = 0.0\n",
      "x_2 = 1.0\n",
      "x_3 = 0.0\n",
      "x_4 = 0.0\n",
      "x_5 = 0.0\n",
      "x_6 = 0.0\n",
      "x_7 = 0.0\n",
      "x_8 = 0.0\n",
      "x_9 = 0.0\n",
      "Objective function:\n",
      "Z = 10.0\n"
     ]
    }
   ],
   "source": [
    "model_builder4 = ModelBuilder('./files/teste4.txt')\n",
    "model_4 = model_builder4.create_model()\n",
    "\n",
    "solver_4 = BranchAndBoundSolver(model_4)\n",
    "solver_4.solve()"
   ]
  }
 ],
 "metadata": {
  "kernelspec": {
   "display_name": "base",
   "language": "python",
   "name": "python3"
  },
  "language_info": {
   "codemirror_mode": {
    "name": "ipython",
    "version": 3
   },
   "file_extension": ".py",
   "mimetype": "text/x-python",
   "name": "python",
   "nbconvert_exporter": "python",
   "pygments_lexer": "ipython3",
   "version": "3.10.11"
  },
  "orig_nbformat": 4
 },
 "nbformat": 4,
 "nbformat_minor": 2
}
